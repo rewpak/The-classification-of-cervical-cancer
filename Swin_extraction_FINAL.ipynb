{
  "nbformat": 4,
  "nbformat_minor": 0,
  "metadata": {
    "colab": {
      "provenance": [],
      "machine_shape": "hm",
      "gpuType": "T4"
    },
    "kernelspec": {
      "name": "python3",
      "display_name": "Python 3"
    },
    "language_info": {
      "name": "python"
    },
    "accelerator": "GPU"
  },
  "cells": [
    {
      "cell_type": "code",
      "source": [
        "from google.colab import drive\n",
        "drive.mount('/content/drive')"
      ],
      "metadata": {
        "colab": {
          "base_uri": "https://localhost:8080/"
        },
        "id": "_-rc-kfEc6Ik",
        "outputId": "a4efccad-b2b8-4027-f91e-5d8cbf379cfd"
      },
      "execution_count": null,
      "outputs": [
        {
          "output_type": "stream",
          "name": "stdout",
          "text": [
            "Drive already mounted at /content/drive; to attempt to forcibly remount, call drive.mount(\"/content/drive\", force_remount=True).\n"
          ]
        }
      ]
    },
    {
      "cell_type": "code",
      "source": [
        "#Labraries\n",
        "!pip install transformers\n",
        "!pip install torch torchvision\n",
        "\n",
        "import os\n",
        "from pathlib import Path\n",
        "import shutil\n",
        "import torch\n",
        "from torch.utils.data import DataLoader, Dataset\n",
        "from torchvision import transforms\n",
        "from transformers import SwinForImageClassification, AutoFeatureExtractor\n",
        "from PIL import Image\n",
        "import pandas as pd\n",
        "import numpy as np"
      ],
      "metadata": {
        "colab": {
          "base_uri": "https://localhost:8080/"
        },
        "collapsed": true,
        "id": "y_9w1SvzqGh4",
        "outputId": "c71ae0a1-de36-40e7-9f85-665ca71b620b"
      },
      "execution_count": null,
      "outputs": [
        {
          "output_type": "stream",
          "name": "stdout",
          "text": [
            "Requirement already satisfied: transformers in /usr/local/lib/python3.10/dist-packages (4.42.4)\n",
            "Requirement already satisfied: filelock in /usr/local/lib/python3.10/dist-packages (from transformers) (3.15.4)\n",
            "Requirement already satisfied: huggingface-hub<1.0,>=0.23.2 in /usr/local/lib/python3.10/dist-packages (from transformers) (0.23.5)\n",
            "Requirement already satisfied: numpy<2.0,>=1.17 in /usr/local/lib/python3.10/dist-packages (from transformers) (1.26.4)\n",
            "Requirement already satisfied: packaging>=20.0 in /usr/local/lib/python3.10/dist-packages (from transformers) (24.1)\n",
            "Requirement already satisfied: pyyaml>=5.1 in /usr/local/lib/python3.10/dist-packages (from transformers) (6.0.1)\n",
            "Requirement already satisfied: regex!=2019.12.17 in /usr/local/lib/python3.10/dist-packages (from transformers) (2024.5.15)\n",
            "Requirement already satisfied: requests in /usr/local/lib/python3.10/dist-packages (from transformers) (2.31.0)\n",
            "Requirement already satisfied: safetensors>=0.4.1 in /usr/local/lib/python3.10/dist-packages (from transformers) (0.4.3)\n",
            "Requirement already satisfied: tokenizers<0.20,>=0.19 in /usr/local/lib/python3.10/dist-packages (from transformers) (0.19.1)\n",
            "Requirement already satisfied: tqdm>=4.27 in /usr/local/lib/python3.10/dist-packages (from transformers) (4.66.4)\n",
            "Requirement already satisfied: fsspec>=2023.5.0 in /usr/local/lib/python3.10/dist-packages (from huggingface-hub<1.0,>=0.23.2->transformers) (2024.6.1)\n",
            "Requirement already satisfied: typing-extensions>=3.7.4.3 in /usr/local/lib/python3.10/dist-packages (from huggingface-hub<1.0,>=0.23.2->transformers) (4.12.2)\n",
            "Requirement already satisfied: charset-normalizer<4,>=2 in /usr/local/lib/python3.10/dist-packages (from requests->transformers) (3.3.2)\n",
            "Requirement already satisfied: idna<4,>=2.5 in /usr/local/lib/python3.10/dist-packages (from requests->transformers) (3.7)\n",
            "Requirement already satisfied: urllib3<3,>=1.21.1 in /usr/local/lib/python3.10/dist-packages (from requests->transformers) (2.0.7)\n",
            "Requirement already satisfied: certifi>=2017.4.17 in /usr/local/lib/python3.10/dist-packages (from requests->transformers) (2024.7.4)\n",
            "Requirement already satisfied: torch in /usr/local/lib/python3.10/dist-packages (2.3.1+cu121)\n",
            "Requirement already satisfied: torchvision in /usr/local/lib/python3.10/dist-packages (0.18.1+cu121)\n",
            "Requirement already satisfied: filelock in /usr/local/lib/python3.10/dist-packages (from torch) (3.15.4)\n",
            "Requirement already satisfied: typing-extensions>=4.8.0 in /usr/local/lib/python3.10/dist-packages (from torch) (4.12.2)\n",
            "Requirement already satisfied: sympy in /usr/local/lib/python3.10/dist-packages (from torch) (1.13.1)\n",
            "Requirement already satisfied: networkx in /usr/local/lib/python3.10/dist-packages (from torch) (3.3)\n",
            "Requirement already satisfied: jinja2 in /usr/local/lib/python3.10/dist-packages (from torch) (3.1.4)\n",
            "Requirement already satisfied: fsspec in /usr/local/lib/python3.10/dist-packages (from torch) (2024.6.1)\n",
            "Requirement already satisfied: nvidia-cuda-nvrtc-cu12==12.1.105 in /usr/local/lib/python3.10/dist-packages (from torch) (12.1.105)\n",
            "Requirement already satisfied: nvidia-cuda-runtime-cu12==12.1.105 in /usr/local/lib/python3.10/dist-packages (from torch) (12.1.105)\n",
            "Requirement already satisfied: nvidia-cuda-cupti-cu12==12.1.105 in /usr/local/lib/python3.10/dist-packages (from torch) (12.1.105)\n",
            "Requirement already satisfied: nvidia-cudnn-cu12==8.9.2.26 in /usr/local/lib/python3.10/dist-packages (from torch) (8.9.2.26)\n",
            "Requirement already satisfied: nvidia-cublas-cu12==12.1.3.1 in /usr/local/lib/python3.10/dist-packages (from torch) (12.1.3.1)\n",
            "Requirement already satisfied: nvidia-cufft-cu12==11.0.2.54 in /usr/local/lib/python3.10/dist-packages (from torch) (11.0.2.54)\n",
            "Requirement already satisfied: nvidia-curand-cu12==10.3.2.106 in /usr/local/lib/python3.10/dist-packages (from torch) (10.3.2.106)\n",
            "Requirement already satisfied: nvidia-cusolver-cu12==11.4.5.107 in /usr/local/lib/python3.10/dist-packages (from torch) (11.4.5.107)\n",
            "Requirement already satisfied: nvidia-cusparse-cu12==12.1.0.106 in /usr/local/lib/python3.10/dist-packages (from torch) (12.1.0.106)\n",
            "Requirement already satisfied: nvidia-nccl-cu12==2.20.5 in /usr/local/lib/python3.10/dist-packages (from torch) (2.20.5)\n",
            "Requirement already satisfied: nvidia-nvtx-cu12==12.1.105 in /usr/local/lib/python3.10/dist-packages (from torch) (12.1.105)\n",
            "Requirement already satisfied: triton==2.3.1 in /usr/local/lib/python3.10/dist-packages (from torch) (2.3.1)\n",
            "Requirement already satisfied: nvidia-nvjitlink-cu12 in /usr/local/lib/python3.10/dist-packages (from nvidia-cusolver-cu12==11.4.5.107->torch) (12.5.82)\n",
            "Requirement already satisfied: numpy in /usr/local/lib/python3.10/dist-packages (from torchvision) (1.26.4)\n",
            "Requirement already satisfied: pillow!=8.3.*,>=5.3.0 in /usr/local/lib/python3.10/dist-packages (from torchvision) (9.4.0)\n",
            "Requirement already satisfied: MarkupSafe>=2.0 in /usr/local/lib/python3.10/dist-packages (from jinja2->torch) (2.1.5)\n",
            "Requirement already satisfied: mpmath<1.4,>=1.1.0 in /usr/local/lib/python3.10/dist-packages (from sympy->torch) (1.3.0)\n"
          ]
        }
      ]
    },
    {
      "cell_type": "code",
      "source": [
        "#Path to images\n",
        "data_path = '/content/drive/MyDrive/Cancer/AugImages'"
      ],
      "metadata": {
        "id": "SbSML7BCqfZg"
      },
      "execution_count": null,
      "outputs": []
    },
    {
      "cell_type": "code",
      "source": [
        "#Checking for the existence of directories\n",
        "if not os.path.exists(data_path):\n",
        "    raise FileNotFoundError(f\"Directory {data_path} not found on Google Drive.\")\n",
        "\n"
      ],
      "metadata": {
        "id": "vm9CSIB-qh9j"
      },
      "execution_count": null,
      "outputs": []
    },
    {
      "cell_type": "code",
      "source": [
        "#Checking for the existence of subdirectories\n",
        "subdirs = ['AugHSIL', 'AugLSIL', 'AugSCC', 'Neg250']\n",
        "for subdir in subdirs:\n",
        "    if not os.path.exists(os.path.join(data_path, subdir)):\n",
        "        raise FileNotFoundError(f\"Directory {subdir} not found on {data_path}.\")\n"
      ],
      "metadata": {
        "id": "W_9H0eCjqlCK"
      },
      "execution_count": null,
      "outputs": []
    },
    {
      "cell_type": "code",
      "source": [
        "#Copying data to a local directory\n",
        "local_data_path = '/content/AugImages'\n",
        "if not os.path.exists(local_data_path):\n",
        "    shutil.copytree(data_path, local_data_path)\n"
      ],
      "metadata": {
        "id": "iJWWs4LAqoop"
      },
      "execution_count": null,
      "outputs": []
    },
    {
      "cell_type": "code",
      "source": [
        "#Checking the structure of local data\n",
        "print(\"Contents of the local directoryи:\")\n",
        "print(os.listdir(local_data_path))\n",
        "for subdir in subdirs:\n",
        "    print(f\"Contents {subdir}: {os.listdir(os.path.join(local_data_path, subdir))}\")\n"
      ],
      "metadata": {
        "colab": {
          "base_uri": "https://localhost:8080/"
        },
        "id": "_AWLokj_qruC",
        "outputId": "146cd749-1ece-4303-f20b-fc16156141f0"
      },
      "execution_count": null,
      "outputs": [
        {
          "output_type": "stream",
          "name": "stdout",
          "text": [
            "Содержимое локальной директории:\n",
            "['Neg250', 'AugSCC', 'AugHSIL', 'AugLSIL']\n",
            "Содержимое AugHSIL: ['HSIL_7 (6)_aug_0.jpg', 'HSIL_1 (9)_aug_extra_39.jpg', 'HSIL_5 (17)_aug_extra_23.jpg', 'HSIL_6 (12)_aug_extra_34.jpg', 'HSIL_5 (16)_aug_extra_18.jpg', 'HSIL_8 (5)_aug_0.jpg', 'HSIL_7 (14)_aug_extra_63.jpg', 'HSIL_6 (1)_aug_extra_26.jpg', 'HSIL_5 (10)_aug_extra_55.jpg', 'HSIL_10 (12)_aug_extra_60.jpg', 'HSIL_10 (12)_aug_0.jpg', 'HSIL_6 (20)_aug_0.jpg', 'HSIL_5 (20)_aug_extra_0.jpg', 'HSIL_6 (11)_aug_0.jpg', 'HSIL_7 (4)_aug_0.jpg', 'HSIL_10 (18)_aug_extra_20.jpg', 'HSIL_4 (9)_aug_0.jpg', 'HSIL_4 (2)_aug_0.jpg', 'HSIL_7 (11)_aug_0.jpg', 'HSIL_10 (1)_aug_extra_28.jpg', 'HSIL_5 (19)_aug_0.jpg', 'HSIL_6 (12)_aug_0.jpg', 'HSIL_2 (2)_aug_0.jpg', 'HSIL_3 (4)_aug_0.jpg', 'HSIL_6 (27)_aug_0.jpg', 'HSIL_4 (16)_aug_extra_19.jpg', 'HSIL_5 (21)_aug_0.jpg', 'HSIL_7 (1)_aug_extra_15.jpg', 'HSIL_6 (2)_aug_0.jpg', 'HSIL_10 (10)_aug_0.jpg', 'HSIL_1 (13)_aug_extra_68.jpg', 'HSIL_2 (10)_aug_extra_31.jpg', 'HSIL_2 (14)_aug_0.jpg', 'HSIL_4 (10)_aug_0.jpg', 'HSIL_1 (10)_aug_0.jpg', 'HSIL_5 (1)_aug_0.jpg', 'HSIL_6 (26)_aug_0.jpg', 'HSIL_4 (17)_aug_0.jpg', 'HSIL_2 (4)_aug_extra_44.jpg', 'HSIL_1 (5)_aug_extra_27.jpg', 'HSIL_8 (11)_aug_0.jpg', 'HSIL_4 (7)_aug_0.jpg', 'HSIL_8 (10)_aug_extra_41.jpg', 'HSIL_8 (5)_aug_extra_43.jpg', 'HSIL_5 (11)_aug_extra_74.jpg', 'HSIL_10 (7)_aug_0.jpg', 'HSIL_4 (3)_aug_extra_85.jpg', 'HSIL_9 (4)_aug_extra_37.jpg', 'HSIL_5 (12)_aug_0.jpg', 'HSIL_6 (9)_aug_0.jpg', 'HSIL_3 (5)_aug_extra_54.jpg', 'HSIL_7 (12)_aug_extra_35.jpg', 'HSIL_7 (5)_aug_extra_86.jpg', 'HSIL_8 (6)_aug_0.jpg', 'HSIL_10 (19)_aug_0.jpg', 'HSIL_6 (10)_aug_0.jpg', 'HSIL_2 (20)_aug_0.jpg', 'HSIL_6 (13)_aug_extra_7.jpg', 'HSIL_7 (12)_aug_0.jpg', 'HSIL_1 (11)_aug_0.jpg', 'HSIL_7 (5)_aug_0.jpg', 'HSIL_6 (23)_aug_extra_48.jpg', 'HSIL_5 (8)_aug_0.jpg', 'HSIL_5 (3)_aug_0.jpg', 'HSIL_3 (4)_aug_extra_73.jpg', 'HSIL_7 (3)_aug_0.jpg', 'HSIL_2 (4)_aug_0.jpg', 'HSIL_1 (8)_aug_0.jpg', 'HSIL_3 (2)_aug_0.jpg', 'HSIL_1 (14)_aug_extra_2.jpg', 'HSIL_5 (4)_aug_0.jpg', 'HSIL_7 (13)_aug_0.jpg', 'HSIL_6 (4)_aug_0.jpg', 'HSIL_6 (15)_aug_extra_62.jpg', 'HSIL_6 (19)_aug_extra_52.jpg', 'HSIL_5 (17)_aug_0.jpg', 'HSIL_2 (9)_aug_0.jpg', 'HSIL_2 (1)_aug_0.jpg', 'HSIL_7 (14)_aug_0.jpg', 'HSIL_8 (10)_aug_0.jpg', 'HSIL_2 (20)_aug_extra_67.jpg', 'HSIL_8 (2)_aug_extra_56.jpg', 'HSIL_3 (1)_aug_0.jpg', 'HSIL_4 (15)_aug_0.jpg', 'HSIL_10 (3)_aug_0.jpg', 'HSIL_6 (13)_aug_0.jpg', 'HSIL_4 (12)_aug_extra_84.jpg', 'HSIL_1 (9)_aug_0.jpg', 'HSIL_8 (3)_aug_0.jpg', 'HSIL_8 (7)_aug_0.jpg', 'HSIL_10 (7)_aug_extra_78.jpg', 'HSIL_8 (8)_aug_extra_10.jpg', 'HSIL_6 (6)_aug_extra_49.jpg', 'HSIL_8 (9)_aug_0.jpg', 'HSIL_5 (6)_aug_extra_9.jpg', 'HSIL_5 (22)_aug_0.jpg', 'HSIL_6 (28)_aug_extra_40.jpg', 'HSIL_5 (9)_aug_0.jpg', 'HSIL_9 (3)_aug_extra_59.jpg', 'HSIL_10 (14)_aug_0.jpg', 'HSIL_1 (4)_aug_extra_13.jpg', 'HSIL_4 (14)_aug_0.jpg', 'HSIL_5 (5)_aug_0.jpg', 'HSIL_5 (14)_aug_0.jpg', 'HSIL_1 (4)_aug_0.jpg', 'HSIL_7 (10)_aug_0.jpg', 'HSIL_5 (18)_aug_0.jpg', 'HSIL_5 (6)_aug_0.jpg', 'HSIL_6 (14)_aug_extra_64.jpg', 'HSIL_6 (1)_aug_0.jpg', 'HSIL_8 (12)_aug_0.jpg', 'HSIL_6 (28)_aug_0.jpg', 'HSIL_10 (15)_aug_extra_36.jpg', 'HSIL_6 (6)_aug_0.jpg', 'HSIL_9 (1)_aug_0.jpg', 'HSIL_2 (5)_aug_extra_80.jpg', 'HSIL_5 (20)_aug_0.jpg', 'HSIL_4 (1)_aug_0.jpg', 'HSIL_6 (18)_aug_extra_71.jpg', 'HSIL_5 (7)_aug_0.jpg', 'HSIL_10 (11)_aug_0.jpg', 'HSIL_1 (2)_aug_0.jpg', 'HSIL_9 (6)_aug_0.jpg', 'HSIL_6 (7)_aug_0.jpg', 'HSIL_4 (11)_aug_0.jpg', 'HSIL_1 (5)_aug_0.jpg', 'HSIL_2 (15)_aug_0.jpg', 'HSIL_1 (15)_aug_extra_42.jpg', 'HSIL_7 (7)_aug_0.jpg', 'HSIL_2 (2)_aug_extra_11.jpg', 'HSIL_1 (7)_aug_0.jpg', 'HSIL_10 (1)_aug_0.jpg', 'HSIL_9 (2)_aug_extra_66.jpg', 'HSIL_7 (13)_aug_extra_8.jpg', 'HSIL_2 (13)_aug_0.jpg', 'HSIL_4 (1)_aug_extra_51.jpg', 'HSIL_6 (17)_aug_0.jpg', 'HSIL_6 (19)_aug_0.jpg', 'HSIL_1 (8)_aug_extra_4.jpg', 'HSIL_7 (1)_aug_0.jpg', 'HSIL_6 (14)_aug_0.jpg', 'HSIL_10 (5)_aug_0.jpg', 'HSIL_4 (16)_aug_0.jpg', 'HSIL_1 (3)_aug_extra_77.jpg', 'HSIL_10 (2)_aug_0.jpg', 'HSIL_4 (3)_aug_0.jpg', 'HSIL_9 (3)_aug_0.jpg', 'HSIL_9 (7)_aug_0.jpg', 'HSIL_2 (8)_aug_extra_58.jpg', 'HSIL_10 (8)_aug_0.jpg', 'HSIL_1 (1)_aug_0.jpg', 'HSIL_3 (2)_aug_extra_22.jpg', 'HSIL_1 (6)_aug_0.jpg', 'HSIL_2 (3)_aug_extra_30.jpg', 'HSIL_7 (2)_aug_0.jpg', 'HSIL_9 (4)_aug_0.jpg', 'HSIL_1 (3)_aug_0.jpg', 'HSIL_4 (7)_aug_extra_16.jpg', 'HSIL_8 (8)_aug_0.jpg', 'HSIL_2 (11)_aug_extra_12.jpg', 'HSIL_5 (16)_aug_0.jpg', 'HSIL_1 (12)_aug_extra_57.jpg', 'HSIL_2 (3)_aug_0.jpg', 'HSIL_3 (5)_aug_0.jpg', 'HSIL_2 (9)_aug_extra_69.jpg', 'HSIL_9 (5)_aug_0.jpg', 'HSIL_4 (8)_aug_0.jpg', 'HSIL_2 (16)_aug_extra_81.jpg', 'HSIL_10 (17)_aug_0.jpg', 'HSIL_8 (1)_aug_0.jpg', 'HSIL_6 (25)_aug_extra_14.jpg', 'HSIL_6 (5)_aug_0.jpg', 'HSIL_6 (8)_aug_0.jpg', 'HSIL_8 (14)_aug_0.jpg', 'HSIL_4 (4)_aug_0.jpg', 'HSIL_2 (10)_aug_0.jpg', 'HSIL_9 (5)_aug_extra_5.jpg', 'HSIL_7 (8)_aug_0.jpg', 'HSIL_10 (6)_aug_0.jpg', 'HSIL_6 (7)_aug_extra_76.jpg', 'HSIL_6 (22)_aug_0.jpg', 'HSIL_10 (15)_aug_0.jpg', 'HSIL_10 (19)_aug_extra_21.jpg', 'HSIL_6 (15)_aug_0.jpg', 'HSIL_5 (1)_aug_extra_82.jpg', 'HSIL_10 (6)_aug_extra_47.jpg', 'HSIL_6 (25)_aug_0.jpg', 'HSIL_6 (21)_aug_0.jpg', 'HSIL_5 (12)_aug_extra_83.jpg', 'HSIL_2 (6)_aug_0.jpg', 'HSIL_2 (8)_aug_0.jpg', 'HSIL_8 (11)_aug_extra_3.jpg', 'HSIL_10 (13)_aug_extra_65.jpg', 'HSIL_4 (17)_aug_extra_24.jpg', 'HSIL_1 (2)_aug_extra_46.jpg', 'HSIL_10 (4)_aug_0.jpg', 'HSIL_10 (18)_aug_0.jpg', 'HSIL_7 (7)_aug_extra_50.jpg', 'HSIL_6 (3)_aug_0.jpg', 'HSIL_1 (14)_aug_0.jpg', 'HSIL_5 (2)_aug_0.jpg', 'HSIL_10 (16)_aug_0.jpg', 'HSIL_8 (13)_aug_0.jpg', 'HSIL_7 (6)_aug_extra_75.jpg', 'HSIL_8 (2)_aug_0.jpg', 'HSIL_2 (17)_aug_extra_45.jpg', 'HSIL_2 (16)_aug_0.jpg', 'HSIL_6 (24)_aug_0.jpg', 'HSIL_5 (15)_aug_0.jpg', 'HSIL_4 (5)_aug_0.jpg', 'HSIL_8 (3)_aug_extra_70.jpg', 'HSIL_7 (15)_aug_0.jpg', 'HSIL_2 (18)_aug_0.jpg', 'HSIL_9 (2)_aug_0.jpg', 'HSIL_2 (17)_aug_0.jpg', 'HSIL_5 (11)_aug_0.jpg', 'HSIL_4 (11)_aug_extra_72.jpg', 'HSIL_5 (23)_aug_0.jpg', 'HSIL_2 (12)_aug_0.jpg', 'HSIL_3 (3)_aug_0.jpg', 'HSIL_6 (18)_aug_0.jpg', 'HSIL_10 (14)_aug_extra_6.jpg', 'HSIL_5 (13)_aug_0.jpg', 'HSIL_4 (6)_aug_0.jpg', 'HSIL_4 (13)_aug_0.jpg', 'HSIL_6 (16)_aug_0.jpg', 'HSIL_5 (7)_aug_extra_33.jpg', 'HSIL_8 (4)_aug_extra_1.jpg', 'HSIL_2 (7)_aug_0.jpg', 'HSIL_1 (12)_aug_0.jpg', 'HSIL_4 (10)_aug_extra_53.jpg', 'HSIL_1 (15)_aug_0.jpg', 'HSIL_10 (13)_aug_0.jpg', 'HSIL_2 (5)_aug_0.jpg', 'HSIL_6 (22)_aug_extra_79.jpg', 'HSIL_7 (9)_aug_0.jpg', 'HSIL_2 (19)_aug_0.jpg', 'HSIL_4 (6)_aug_extra_25.jpg', 'HSIL_10 (9)_aug_0.jpg', 'HSIL_6 (24)_aug_extra_29.jpg', 'HSIL_2 (11)_aug_0.jpg', 'HSIL_6 (23)_aug_0.jpg', 'HSIL_8 (9)_aug_extra_32.jpg', 'HSIL_1 (13)_aug_0.jpg', 'HSIL_5 (10)_aug_0.jpg', 'HSIL_5 (21)_aug_extra_38.jpg', 'HSIL_7 (15)_aug_extra_61.jpg', 'HSIL_3 (3)_aug_extra_17.jpg', 'HSIL_4 (12)_aug_0.jpg', 'HSIL_8 (4)_aug_0.jpg']\n",
            "Содержимое AugLSIL: ['LSIL_3 (17)_aug_0.jpg', 'LSIL_3 (8)_aug_0.jpg', 'LSIL_4 (23)_aug_1.jpg', 'LSIL_3 (20)_aug_1.jpg', 'LSIL_4 (21)_aug_1.jpg', 'LSIL_2 (10)_aug_0.jpg', 'LSIL_2 (7)_aug_0.jpg', 'LSIL_4 (37)_aug_0.jpg', 'LSIL_1 (24)_aug_0.jpg', 'LSIL_1 (18)_aug_0.jpg', 'LSIL_2 (8)_aug_0.jpg', 'LSIL_1 (26)_aug_1.jpg', 'LSIL_3 (23)_aug_0.jpg', 'LSIL_3 (9)_aug_0.jpg', 'LSIL_4 (33)_aug_1.jpg', 'LSIL_1 (11)_aug_0.jpg', 'LSIL_4 (21)_aug_extra_21.jpg', 'LSIL_2 (13)_aug_0.jpg', 'LSIL_4 (6)_aug_1.jpg', 'LSIL_4 (34)_aug_1.jpg', 'LSIL_4 (35)_aug_1.jpg', 'LSIL_1 (7)_aug_extra_18.jpg', 'LSIL_3 (17)_aug_1.jpg', 'LSIL_3 (27)_aug_0.jpg', 'LSIL_2 (21)_aug_1.jpg', 'LSIL_3 (15)_aug_0.jpg', 'LSIL_3 (12)_aug_0.jpg', 'LSIL_3 (5)_aug_1.jpg', 'LSIL_4 (5)_aug_0.jpg', 'LSIL_3 (27)_aug_extra_0.jpg', 'LSIL_3 (15)_aug_1.jpg', 'LSIL_1 (9)_aug_1.jpg', 'LSIL_4 (12)_aug_1.jpg', 'LSIL_3 (6)_aug_0.jpg', 'LSIL_3 (2)_aug_1.jpg', 'LSIL_2 (13)_aug_1.jpg', 'LSIL_3 (16)_aug_1.jpg', 'LSIL_3 (28)_aug_0.jpg', 'LSIL_2 (20)_aug_1.jpg', 'LSIL_2 (2)_aug_0.jpg', 'LSIL_4 (16)_aug_1.jpg', 'LSIL_3 (10)_aug_0.jpg', 'LSIL_3 (22)_aug_0.jpg', 'LSIL_4 (2)_aug_0.jpg', 'LSIL_4 (1)_aug_0.jpg', 'LSIL_1 (14)_aug_1.jpg', 'LSIL_4 (17)_aug_extra_17.jpg', 'LSIL_1 (22)_aug_1.jpg', 'LSIL_4 (19)_aug_0.jpg', 'LSIL_2 (2)_aug_1.jpg', 'LSIL_3 (2)_aug_0.jpg', 'LSIL_3 (13)_aug_0.jpg', 'LSIL_4 (4)_aug_0.jpg', 'LSIL_4 (26)_aug_0.jpg', 'LSIL_4 (27)_aug_0.jpg', 'LSIL_4 (10)_aug_1.jpg', 'LSIL_1 (16)_aug_0.jpg', 'LSIL_2 (9)_aug_0.jpg', 'LSIL_2 (1)_aug_0.jpg', 'LSIL_1 (25)_aug_1.jpg', 'LSIL_4 (20)_aug_0.jpg', 'LSIL_4 (3)_aug_1.jpg', 'LSIL_1 (20)_aug_0.jpg', 'LSIL_3 (11)_aug_0.jpg', 'LSIL_1 (17)_aug_0.jpg', 'LSIL_3 (22)_aug_1.jpg', 'LSIL_1 (22)_aug_extra_5.jpg', 'LSIL_1 (9)_aug_0.jpg', 'LSIL_3 (6)_aug_1.jpg', 'LSIL_2 (9)_aug_1.jpg', 'LSIL_2 (3)_aug_0.jpg', 'LSIL_1 (2)_aug_0.jpg', 'LSIL_1 (19)_aug_1.jpg', 'LSIL_1 (26)_aug_0.jpg', 'LSIL_2 (12)_aug_1.jpg', 'LSIL_2 (14)_aug_0.jpg', 'LSIL_4 (15)_aug_0.jpg', 'LSIL_1 (6)_aug_1.jpg', 'LSIL_4 (5)_aug_extra_11.jpg', 'LSIL_3 (5)_aug_0.jpg', 'LSIL_2 (4)_aug_1.jpg', 'LSIL_4 (28)_aug_1.jpg', 'LSIL_4 (31)_aug_0.jpg', 'LSIL_4 (29)_aug_0.jpg', 'LSIL_4 (37)_aug_1.jpg', 'LSIL_3 (24)_aug_0.jpg', 'LSIL_4 (7)_aug_1.jpg', 'LSIL_2 (11)_aug_extra_9.jpg', 'LSIL_1 (11)_aug_1.jpg', 'LSIL_1 (17)_aug_1.jpg', 'LSIL_2 (21)_aug_0.jpg', 'LSIL_1 (14)_aug_0.jpg', 'LSIL_3 (3)_aug_1.jpg', 'LSIL_4 (36)_aug_1.jpg', 'LSIL_4 (14)_aug_0.jpg', 'LSIL_4 (25)_aug_0.jpg', 'LSIL_2 (19)_aug_0.jpg', 'LSIL_4 (8)_aug_1.jpg', 'LSIL_4 (31)_aug_1.jpg', 'LSIL_4 (9)_aug_extra_3.jpg', 'LSIL_2 (17)_aug_1.jpg', 'LSIL_3 (3)_aug_0.jpg', 'LSIL_3 (14)_aug_1.jpg', 'LSIL_1 (20)_aug_1.jpg', 'LSIL_4 (14)_aug_1.jpg', 'LSIL_3 (25)_aug_0.jpg', 'LSIL_3 (12)_aug_1.jpg', 'LSIL_4 (4)_aug_extra_13.jpg', 'LSIL_4 (33)_aug_0.jpg', 'LSIL_1 (1)_aug_0.jpg', 'LSIL_2 (11)_aug_1.jpg', 'LSIL_1 (6)_aug_extra_7.jpg', 'LSIL_1 (27)_aug_0.jpg', 'LSIL_4 (29)_aug_1.jpg', 'LSIL_4 (17)_aug_0.jpg', 'LSIL_4 (34)_aug_0.jpg', 'LSIL_1 (15)_aug_1.jpg', 'LSIL_4 (20)_aug_1.jpg', 'LSIL_3 (27)_aug_1.jpg', 'LSIL_1 (13)_aug_1.jpg', 'LSIL_1 (12)_aug_1.jpg', 'LSIL_1 (12)_aug_0.jpg', 'LSIL_3 (19)_aug_0.jpg', 'LSIL_3 (9)_aug_1.jpg', 'LSIL_1 (15)_aug_extra_23.jpg', 'LSIL_3 (1)_aug_1.jpg', 'LSIL_3 (11)_aug_1.jpg', 'LSIL_1 (23)_aug_extra_19.jpg', 'LSIL_4 (9)_aug_0.jpg', 'LSIL_2 (11)_aug_0.jpg', 'LSIL_2 (20)_aug_0.jpg', 'LSIL_1 (10)_aug_1.jpg', 'LSIL_3 (13)_aug_1.jpg', 'LSIL_1 (23)_aug_0.jpg', 'LSIL_4 (28)_aug_0.jpg', 'LSIL_2 (6)_aug_0.jpg', 'LSIL_3 (28)_aug_1.jpg', 'LSIL_2 (12)_aug_0.jpg', 'LSIL_1 (27)_aug_1.jpg', 'LSIL_4 (30)_aug_0.jpg', 'LSIL_4 (16)_aug_0.jpg', 'LSIL_3 (23)_aug_1.jpg', 'LSIL_2 (19)_aug_1.jpg', 'LSIL_2 (16)_aug_1.jpg', 'LSIL_2 (5)_aug_1.jpg', 'LSIL_4 (30)_aug_1.jpg', 'LSIL_3 (10)_aug_1.jpg', 'LSIL_4 (10)_aug_0.jpg', 'LSIL_3 (1)_aug_extra_12.jpg', 'LSIL_1 (22)_aug_0.jpg', 'LSIL_4 (3)_aug_0.jpg', 'LSIL_3 (4)_aug_1.jpg', 'LSIL_2 (18)_aug_1.jpg', 'LSIL_1 (16)_aug_1.jpg', 'LSIL_4 (11)_aug_0.jpg', 'LSIL_4 (36)_aug_0.jpg', 'LSIL_4 (12)_aug_0.jpg', 'LSIL_4 (23)_aug_0.jpg', 'LSIL_1 (8)_aug_0.jpg', 'LSIL_4 (15)_aug_1.jpg', 'LSIL_4 (4)_aug_1.jpg', 'LSIL_1 (7)_aug_0.jpg', 'LSIL_1 (14)_aug_extra_2.jpg', 'LSIL_4 (24)_aug_0.jpg', 'LSIL_2 (7)_aug_1.jpg', 'LSIL_4 (20)_aug_extra_4.jpg', 'LSIL_4 (6)_aug_0.jpg', 'LSIL_1 (1)_aug_1.jpg', 'LSIL_2 (10)_aug_extra_15.jpg', 'LSIL_2 (16)_aug_0.jpg', 'LSIL_3 (26)_aug_1.jpg', 'LSIL_4 (22)_aug_0.jpg', 'LSIL_1 (3)_aug_1.jpg', 'LSIL_2 (10)_aug_1.jpg', 'LSIL_4 (1)_aug_1.jpg', 'LSIL_1 (5)_aug_1.jpg', 'LSIL_3 (10)_aug_extra_14.jpg', 'LSIL_4 (22)_aug_1.jpg', 'LSIL_4 (27)_aug_1.jpg', 'LSIL_3 (7)_aug_1.jpg', 'LSIL_3 (14)_aug_0.jpg', 'LSIL_4 (17)_aug_1.jpg', 'LSIL_2 (17)_aug_0.jpg', 'LSIL_4 (21)_aug_0.jpg', 'LSIL_2 (4)_aug_0.jpg', 'LSIL_3 (8)_aug_1.jpg', 'LSIL_3 (21)_aug_0.jpg', 'LSIL_1 (25)_aug_0.jpg', 'LSIL_3 (26)_aug_0.jpg', 'LSIL_1 (5)_aug_0.jpg', 'LSIL_3 (25)_aug_1.jpg', 'LSIL_3 (18)_aug_0.jpg', 'LSIL_1 (7)_aug_1.jpg', 'LSIL_4 (32)_aug_0.jpg', 'LSIL_2 (6)_aug_1.jpg', 'LSIL_1 (4)_aug_1.jpg', 'LSIL_1 (18)_aug_extra_10.jpg', 'LSIL_3 (11)_aug_extra_8.jpg', 'LSIL_1 (8)_aug_1.jpg', 'LSIL_4 (13)_aug_0.jpg', 'LSIL_4 (16)_aug_extra_6.jpg', 'LSIL_4 (11)_aug_1.jpg', 'LSIL_1 (4)_aug_0.jpg', 'LSIL_2 (14)_aug_1.jpg', 'LSIL_4 (9)_aug_1.jpg', 'LSIL_1 (19)_aug_extra_16.jpg', 'LSIL_3 (1)_aug_0.jpg', 'LSIL_3 (24)_aug_1.jpg', 'LSIL_4 (26)_aug_1.jpg', 'LSIL_3 (20)_aug_0.jpg', 'LSIL_1 (18)_aug_1.jpg', 'LSIL_1 (2)_aug_1.jpg', 'LSIL_4 (25)_aug_1.jpg', 'LSIL_1 (21)_aug_1.jpg', 'LSIL_4 (32)_aug_1.jpg', 'LSIL_4 (2)_aug_1.jpg', 'LSIL_4 (35)_aug_0.jpg', 'LSIL_3 (19)_aug_1.jpg', 'LSIL_4 (18)_aug_1.jpg', 'LSIL_2 (8)_aug_1.jpg', 'LSIL_1 (21)_aug_0.jpg', 'LSIL_1 (6)_aug_0.jpg', 'LSIL_4 (8)_aug_0.jpg', 'LSIL_2 (5)_aug_0.jpg', 'LSIL_1 (19)_aug_0.jpg', 'LSIL_1 (3)_aug_0.jpg', 'LSIL_3 (21)_aug_1.jpg', 'LSIL_2 (15)_aug_1.jpg', 'LSIL_2 (18)_aug_0.jpg', 'LSIL_4 (13)_aug_1.jpg', 'LSIL_4 (7)_aug_0.jpg', 'LSIL_1 (24)_aug_1.jpg', 'LSIL_1 (10)_aug_0.jpg', 'LSIL_4 (24)_aug_1.jpg', 'LSIL_4 (36)_aug_extra_1.jpg', 'LSIL_4 (19)_aug_1.jpg', 'LSIL_2 (1)_aug_extra_20.jpg', 'LSIL_4 (8)_aug_extra_22.jpg', 'LSIL_3 (18)_aug_1.jpg', 'LSIL_2 (15)_aug_0.jpg', 'LSIL_1 (15)_aug_0.jpg', 'LSIL_2 (3)_aug_1.jpg', 'LSIL_1 (13)_aug_0.jpg', 'LSIL_4 (5)_aug_1.jpg', 'LSIL_2 (1)_aug_1.jpg', 'LSIL_1 (23)_aug_1.jpg', 'LSIL_3 (7)_aug_0.jpg', 'LSIL_3 (16)_aug_0.jpg', 'LSIL_4 (18)_aug_0.jpg', 'LSIL_3 (4)_aug_0.jpg']\n",
            "Содержимое AugSCC: ['scc_1 (11)_aug_0.jpg', 'scc_2 (21)_aug_2.jpg', 'SCC_3 (7)_aug_0.jpg', 'scc_1 (8)_aug_0.jpg', 'scc_1 (9)_aug_0.jpg', 'SCC_3 (1)_aug_2.jpg', 'scc_2 (11)_aug_extra_4.jpg', 'scc_1 (10)_aug_1.jpg', 'SCC_3 (6)_aug_2.jpg', 'SCC_4 (1)_aug_2.jpg', 'scc_2 (14)_aug_0.jpg', 'scc_1 (14)_aug_2.jpg', 'scc_2 (22)_aug_0.jpg', 'SCC_4 (9)_aug_1.jpg', 'SCC_4 (3)_aug_2.jpg', 'scc_2 (8)_aug_0.jpg', 'scc_2 (18)_aug_0.jpg', 'scc_1 (19)_aug_0.jpg', 'scc_1 (12)_aug_2.jpg', 'scc_1 (5)_aug_2.jpg', 'scc_2 (11)_aug_1.jpg', 'SCC_4 (8)_aug_1.jpg', 'scc_2 (14)_aug_2.jpg', 'scc_1 (15)_aug_2.jpg', 'SCC_4 (2)_aug_2.jpg', 'scc_2 (5)_aug_2.jpg', 'scc_1 (7)_aug_1.jpg', 'SCC_3 (9)_aug_1.jpg', 'scc_2 (27)_aug_2.jpg', 'scc_2 (27)_aug_extra_7.jpg', 'scc_1 (17)_aug_0.jpg', 'scc_2 (15)_aug_0.jpg', 'SCC_4 (10)_aug_2.jpg', 'scc_1 (13)_aug_1.jpg', 'SCC_4 (1)_aug_0.jpg', 'scc_1 (21)_aug_1.jpg', 'scc_2 (7)_aug_0.jpg', 'scc_2 (6)_aug_0.jpg', 'scc_2 (16)_aug_0.jpg', 'SCC_3 (11)_aug_extra_5.jpg', 'SCC_3 (10)_aug_extra_12.jpg', 'scc_2 (8)_aug_2.jpg', 'SCC_3 (9)_aug_2.jpg', 'scc_2 (1)_aug_1.jpg', 'scc_2 (3)_aug_2.jpg', 'SCC_3 (5)_aug_0.jpg', 'scc_1 (14)_aug_0.jpg', 'SCC_3 (8)_aug_1.jpg', 'scc_2 (15)_aug_1.jpg', 'SCC_3 (6)_aug_0.jpg', 'SCC_4 (7)_aug_2.jpg', 'scc_1 (12)_aug_0.jpg', 'scc_2 (12)_aug_2.jpg', 'scc_2 (17)_aug_1.jpg', 'SCC_4 (4)_aug_extra_21.jpg', 'SCC_4 (3)_aug_1.jpg', 'scc_1 (3)_aug_0.jpg', 'scc_1 (4)_aug_1.jpg', 'scc_1 (1)_aug_0.jpg', 'scc_2 (25)_aug_0.jpg', 'scc_2 (21)_aug_0.jpg', 'SCC_4 (9)_aug_0.jpg', 'scc_2 (10)_aug_2.jpg', 'SCC_3 (11)_aug_1.jpg', 'SCC_4 (11)_aug_0.jpg', 'scc_2 (25)_aug_1.jpg', 'SCC_4 (8)_aug_0.jpg', 'SCC_3 (2)_aug_0.jpg', 'scc_1 (8)_aug_2.jpg', 'SCC_4 (14)_aug_1.jpg', 'scc_1 (6)_aug_1.jpg', 'scc_2 (17)_aug_0.jpg', 'scc_1 (3)_aug_2.jpg', 'SCC_3 (2)_aug_1.jpg', 'scc_1 (12)_aug_extra_19.jpg', 'SCC_4 (10)_aug_0.jpg', 'SCC_3 (11)_aug_2.jpg', 'SCC_4 (15)_aug_1.jpg', 'scc_1 (17)_aug_1.jpg', 'scc_2 (6)_aug_2.jpg', 'scc_1 (13)_aug_2.jpg', 'scc_1 (6)_aug_2.jpg', 'scc_1 (17)_aug_2.jpg', 'SCC_3 (3)_aug_0.jpg', 'scc_2 (3)_aug_1.jpg', 'scc_2 (19)_aug_0.jpg', 'SCC_4 (14)_aug_0.jpg', 'scc_2 (12)_aug_1.jpg', 'scc_2 (18)_aug_2.jpg', 'SCC_3 (3)_aug_1.jpg', 'scc_1 (10)_aug_2.jpg', 'SCC_4 (6)_aug_0.jpg', 'scc_1 (2)_aug_1.jpg', 'SCC_4 (12)_aug_0.jpg', 'SCC_3 (4)_aug_1.jpg', 'SCC_3 (7)_aug_1.jpg', 'scc_1 (15)_aug_extra_9.jpg', 'scc_1 (15)_aug_1.jpg', 'scc_1 (5)_aug_1.jpg', 'scc_2 (27)_aug_0.jpg', 'scc_2 (19)_aug_2.jpg', 'scc_1 (19)_aug_extra_13.jpg', 'scc_2 (7)_aug_2.jpg', 'scc_1 (20)_aug_2.jpg', 'scc_2 (17)_aug_2.jpg', 'scc_2 (23)_aug_2.jpg', 'SCC_3 (8)_aug_2.jpg', 'scc_2 (4)_aug_2.jpg', 'scc_2 (8)_aug_1.jpg', 'SCC_4 (8)_aug_extra_18.jpg', 'SCC_4 (4)_aug_2.jpg', 'scc_1 (8)_aug_1.jpg', 'scc_2 (12)_aug_0.jpg', 'scc_1 (6)_aug_0.jpg', 'scc_1 (18)_aug_1.jpg', 'scc_2 (19)_aug_1.jpg', 'scc_2 (5)_aug_1.jpg', 'scc_2 (16)_aug_2.jpg', 'scc_2 (14)_aug_1.jpg', 'scc_2 (9)_aug_2.jpg', 'scc_2 (11)_aug_2.jpg', 'SCC_3 (4)_aug_0.jpg', 'scc_1 (6)_aug_extra_26.jpg', 'SCC_4 (13)_aug_0.jpg', 'SCC_4 (15)_aug_0.jpg', 'SCC_4 (11)_aug_2.jpg', 'scc_1 (1)_aug_extra_3.jpg', 'scc_2 (9)_aug_1.jpg', 'SCC_4 (2)_aug_0.jpg', 'SCC_3 (7)_aug_2.jpg', 'scc_2 (2)_aug_1.jpg', 'SCC_4 (7)_aug_1.jpg', 'SCC_4 (7)_aug_0.jpg', 'scc_2 (18)_aug_1.jpg', 'SCC_4 (10)_aug_1.jpg', 'scc_2 (17)_aug_extra_24.jpg', 'scc_1 (9)_aug_2.jpg', 'scc_1 (5)_aug_0.jpg', 'scc_2 (9)_aug_0.jpg', 'scc_1 (19)_aug_1.jpg', 'scc_1 (16)_aug_2.jpg', 'scc_1 (18)_aug_extra_6.jpg', 'scc_1 (18)_aug_2.jpg', 'scc_1 (11)_aug_1.jpg', 'scc_2 (1)_aug_2.jpg', 'SCC_4 (10)_aug_extra_20.jpg', 'scc_2 (10)_aug_1.jpg', 'scc_2 (26)_aug_0.jpg', 'scc_2 (7)_aug_extra_2.jpg', 'scc_2 (1)_aug_0.jpg', 'scc_2 (6)_aug_extra_14.jpg', 'scc_2 (5)_aug_0.jpg', 'SCC_4 (5)_aug_0.jpg', 'SCC_4 (13)_aug_1.jpg', 'scc_2 (16)_aug_1.jpg', 'SCC_4 (5)_aug_2.jpg', 'scc_1 (13)_aug_0.jpg', 'SCC_3 (10)_aug_0.jpg', 'scc_1 (11)_aug_2.jpg', 'scc_2 (1)_aug_extra_22.jpg', 'scc_2 (13)_aug_0.jpg', 'SCC_4 (1)_aug_1.jpg', 'SCC_4 (12)_aug_2.jpg', 'scc_2 (4)_aug_1.jpg', 'scc_2 (7)_aug_1.jpg', 'SCC_4 (2)_aug_extra_0.jpg', 'SCC_4 (2)_aug_1.jpg', 'scc_2 (27)_aug_1.jpg', 'SCC_3 (5)_aug_2.jpg', 'scc_2 (25)_aug_2.jpg', 'scc_1 (14)_aug_1.jpg', 'SCC_4 (3)_aug_extra_16.jpg', 'SCC_3 (3)_aug_2.jpg', 'scc_1 (3)_aug_1.jpg', 'scc_1 (12)_aug_1.jpg', 'scc_1 (14)_aug_extra_8.jpg', 'scc_1 (16)_aug_0.jpg', 'scc_1 (20)_aug_1.jpg', 'scc_2 (24)_aug_2.jpg', 'SCC_3 (10)_aug_2.jpg', 'scc_1 (4)_aug_0.jpg', 'scc_1 (2)_aug_2.jpg', 'SCC_3 (11)_aug_0.jpg', 'scc_2 (20)_aug_1.jpg', 'SCC_4 (4)_aug_0.jpg', 'scc_1 (7)_aug_extra_23.jpg', 'scc_1 (21)_aug_0.jpg', 'scc_2 (22)_aug_1.jpg', 'scc_2 (11)_aug_0.jpg', 'scc_1 (10)_aug_0.jpg', 'SCC_3 (10)_aug_1.jpg', 'scc_2 (20)_aug_0.jpg', 'scc_1 (21)_aug_2.jpg', 'scc_1 (20)_aug_0.jpg', 'SCC_3 (1)_aug_extra_27.jpg', 'SCC_3 (1)_aug_1.jpg', 'scc_2 (4)_aug_0.jpg', 'scc_2 (24)_aug_0.jpg', 'SCC_4 (8)_aug_2.jpg', 'SCC_4 (15)_aug_2.jpg', 'SCC_4 (5)_aug_1.jpg', 'SCC_3 (9)_aug_0.jpg', 'SCC_4 (9)_aug_2.jpg', 'SCC_3 (4)_aug_2.jpg', 'scc_2 (2)_aug_2.jpg', 'scc_2 (21)_aug_extra_17.jpg', 'scc_1 (7)_aug_2.jpg', 'scc_1 (4)_aug_2.jpg', 'scc_1 (1)_aug_1.jpg', 'scc_2 (20)_aug_2.jpg', 'scc_1 (19)_aug_2.jpg', 'scc_2 (6)_aug_1.jpg', 'scc_1 (2)_aug_0.jpg', 'SCC_4 (14)_aug_2.jpg', 'scc_2 (23)_aug_0.jpg', 'scc_2 (13)_aug_1.jpg', 'SCC_4 (3)_aug_0.jpg', 'SCC_3 (2)_aug_2.jpg', 'scc_2 (24)_aug_1.jpg', 'scc_2 (26)_aug_1.jpg', 'scc_1 (15)_aug_0.jpg', 'scc_2 (13)_aug_2.jpg', 'SCC_4 (4)_aug_1.jpg', 'SCC_4 (6)_aug_1.jpg', 'SCC_3 (8)_aug_0.jpg', 'scc_2 (3)_aug_0.jpg', 'scc_1 (1)_aug_2.jpg', 'scc_2 (22)_aug_2.jpg', 'scc_2 (16)_aug_extra_25.jpg', 'scc_1 (9)_aug_1.jpg', 'SCC_4 (13)_aug_2.jpg', 'SCC_4 (6)_aug_2.jpg', 'scc_2 (23)_aug_1.jpg', 'SCC_4 (12)_aug_1.jpg', 'SCC_3 (6)_aug_extra_1.jpg', 'SCC_3 (5)_aug_1.jpg', 'scc_2 (10)_aug_0.jpg', 'SCC_4 (11)_aug_1.jpg', 'SCC_3 (6)_aug_1.jpg', 'scc_2 (15)_aug_2.jpg', 'scc_1 (18)_aug_0.jpg', 'scc_2 (2)_aug_0.jpg', 'scc_1 (16)_aug_1.jpg', 'scc_2 (26)_aug_2.jpg', 'scc_1 (7)_aug_0.jpg', 'SCC_3 (7)_aug_extra_15.jpg', 'SCC_3 (1)_aug_0.jpg', 'scc_2 (10)_aug_extra_11.jpg', 'scc_2 (21)_aug_1.jpg', 'scc_2 (26)_aug_extra_10.jpg']\n",
            "Содержимое Neg250: ['NL_29_ (5).jpg', 'NL_14_ (3).jpg', 'NL_7_ (13).jpg', 'NL_32_ (14).jpg', 'NL_14_ (1).jpg', 'NL_7_ (16).jpg', 'NL_11_ (6).jpg', 'NL_42_ (3).jpg', 'NL_14_ (9).jpg', 'NL_30_ (7).jpg', 'NL_40_ (6).jpg', 'NL_43_ (10).jpg', 'NL_2_ (1).jpg', 'NL_26_ (12).jpg', 'NL_17_ (14).jpg', 'NL_1_ (8).jpg', 'NL_34_ (9).jpg', 'NL_15_ (10).jpg', 'NL_23_ (9).jpg', 'NL_43_ (11).jpg', 'NL_24_ (4).jpg', 'NL_36_ (4).jpg', 'NL_24_ (5).jpg', 'NL_29_ (10).jpg', 'NL_21_ (8).jpg', 'NL_7_ (11).jpg', 'NL_2_ (5).jpg', 'NL_36_ (10).jpg', 'NL_1_ (10).jpg', 'NL_26_ (14).jpg', 'NL_11_ (15).jpg', 'NL_16_ (2).jpg', 'NL_7_ (9).jpg', 'NL_1_ (11).jpg', 'NL_38_ (14).jpg', 'NL_20_ (2).jpg', 'NL_39_ (9).jpg', 'NL_22_ (10).jpg', 'NL_29_ (7).jpg', 'NL_13_ (7).jpg', 'NL_28_ (12).jpg', 'NL_29_ (9).jpg', 'NL_40_ (7).jpg', 'NL_4_ (6).jpg', 'NL_8_ (8).jpg', 'NL_5_ (13).jpg', 'NL_13_ (15).jpg', 'NL_6_ (1).jpg', 'NL_8_ (14).jpg', 'NL_43_ (8).jpg', 'NL_22_ (3).jpg', 'NL_35_ (12).jpg', 'NL_39_ (2).jpg', 'NL_9_ (9).jpg', 'NL_34_ (5).jpg', 'NL_17_ (3).jpg', 'NL_16_ (9).jpg', 'NL_32_ (3).jpg', 'NL_37_ (2).jpg', 'NL_38_ (10).jpg', 'NL_27_ (5).jpg', 'NL_37_ (16).jpg', 'NL_10_ (15).jpg', 'NL_24_ (9).jpg', 'NL_41_ (11).jpg', 'NL_9_ (8).jpg', 'NL_5_ (11).jpg', 'NL_34_ (4).jpg', 'NL_11_ (14).jpg', 'NL_12_ (4).jpg', 'NL_20_ (1).jpg', 'NL_39_ (15).jpg', 'NL_30_ (6).jpg', 'NL_11_ (7).jpg', 'NL_21_ (6).jpg', 'NL_1_ (9).jpg', 'NL_27_ (2).jpg', 'NL_2_ (9).jpg', 'NL_15_ (5).jpg', 'NL_1_ (2).jpg', 'NL_16_ (14).jpg', 'NL_42_ (12).jpg', 'NL_13_ (5).jpg', 'NL_5_ (15).jpg', 'NL_14_ (8).jpg', 'NL_32_ (7).jpg', 'NL_15_ (9).jpg', 'NL_9_ (10).jpg', 'NL_18_ (10).jpg', 'NL_43_ (12).jpg', 'NL_42_ (11).jpg', 'NL_43_ (7).jpg', 'NL_26_ (10).jpg', 'NL_3_ (12).jpg', 'NL_15_ (7).jpg', 'NL_14_ (21).jpg', 'NL_22_ (7).jpg', 'NL_39_ (3).jpg', 'NL_19_ (10).jpg', 'NL_28_ (14).jpg', 'NL_2_ (12).jpg', 'NL_12_ (9).jpg', 'NL_28_ (9).jpg', 'NL_5_ (7).jpg', 'NL_25_ (9).jpg', 'NL_23_ (6).jpg', 'NL_4_ (5).jpg', 'NL_25_ (4).jpg', 'NL_34_ (7).jpg', 'NL_7_ (1).jpg', 'NL_42_ (15).jpg', 'NL_21_ (14).jpg', 'NL_40_ (8).jpg', 'NL_10_ (10).jpg', 'NL_26_ (5).jpg', 'NL_25_ (7).jpg', 'NL_25_ (8).jpg', 'NL_34_ (10).jpg', 'NL_13_ (2).jpg', 'NL_16_ (1).jpg', 'NL_2_ (17).jpg', 'NL_19_ (2).jpg', 'NL_41_ (10).jpg', 'NL_18_ (15).jpg', 'NL_34_ (3).jpg', 'NL_11_ (2).jpg', 'NL_41_ (15).jpg', 'NL_13_ (1).jpg', 'NL_9_ (2).jpg', 'NL_22_ (6).jpg', 'NL_16_ (15).jpg', 'NL_39_ (11).jpg', 'NL_34_ (12).jpg', 'NL_9_ (1).jpg', 'NL_34_ (8).jpg', 'NL_7_ (15).jpg', 'NL_18_ (13).jpg', 'NL_29_ (13).jpg', 'NL_18_ (14).jpg', 'NL_40_ (11).jpg', 'NL_41_ (1).jpg', 'NL_35_ (1).jpg', 'NL_33_ (11).jpg', 'NL_26_ (13).jpg', 'NL_9_ (6).jpg', 'NL_41_ (13).jpg', 'NL_11_ (13).jpg', 'NL_7_ (14).jpg', 'NL_18_ (2).jpg', 'NL_3_ (9).jpg', 'NL_30_ (9).jpg', 'NL_14_ (14).jpg', 'NL_18_ (21).jpg', 'NL_6_ (5).jpg', 'NL_8_ (9).jpg', 'NL_22_ (14).jpg', 'NL_31_ (1).jpg', 'NL_1_ (14).jpg', 'NL_28_ (2).jpg', 'NL_35_ (15).jpg', 'NL_36_ (19).jpg', 'NL_37_ (6).jpg', 'NL_40_ (2).jpg', 'NL_33_ (13).jpg', 'NL_38_ (7).jpg', 'NL_38_ (11).jpg', 'NL_31_ (4).jpg', 'NL_26_ (7).jpg', 'NL_40_ (9).jpg', 'NL_26_ (1).jpg', 'NL_36_ (15).jpg', 'NL_24_ (8).jpg', 'NL_26_ (15).jpg', 'NL_41_ (7).jpg', 'NL_39_ (8).jpg', 'NL_5_ (2).jpg', 'NL_18_ (17).jpg', 'NL_10_ (8).jpg', 'NL_39_ (4).jpg', 'NL_37_ (8).jpg', 'NL_22_ (5).jpg', 'NL_39_ (6).jpg', 'NL_36_ (2).jpg', 'NL_9_ (15).jpg', 'NL_41_ (9).jpg', 'NL_32_ (9).jpg', 'NL_14_ (15).jpg', 'NL_18_ (20).jpg', 'NL_43_ (3).jpg', 'NL_19_ (6).jpg', 'NL_38_ (8).jpg', 'NL_36_ (1).jpg', 'NL_32_ (5).jpg', 'NL_5_ (8).jpg', 'NL_23_ (5).jpg', 'NL_22_ (15).jpg', 'NL_36_ (14).jpg', 'NL_18_ (5).jpg', 'NL_14_ (17).jpg', 'NL_9_ (14).jpg', 'NL_27_ (4).jpg', 'NL_18_ (4).jpg', 'NL_43_ (5).jpg', 'NL_35_ (6).jpg', 'NL_29_ (6).jpg', 'NL_8_ (5).jpg', 'NL_41_ (5).jpg', 'NL_15_ (14).jpg', 'NL_24_ (1).jpg', 'NL_14_ (16).jpg', 'NL_37_ (7).jpg', 'NL_18_ (11).jpg', 'NL_21_ (3).jpg', 'NL_17_ (5).jpg', 'NL_21_ (4).jpg', 'NL_30_ (3).jpg', 'NL_26_ (2).jpg', 'NL_2_ (19).jpg', 'NL_43_ (15).jpg', 'NL_34_ (1).jpg', 'NL_24_ (7).jpg', 'NL_13_ (8).jpg', 'NL_40_ (4).jpg', 'NL_14_ (2).jpg', 'NL_1_ (6).jpg', 'NL_17_ (7).jpg', 'NL_15_ (13).jpg', 'NL_25_ (2).jpg', 'NL_10_ (14).jpg', 'NL_37_ (17).jpg', 'NL_36_ (16).jpg', 'NL_32_ (10).jpg', 'NL_10_ (7).jpg', 'NL_36_ (3).jpg', 'NL_17_ (2).jpg', 'NL_42_ (8).jpg', 'NL_34_ (11).jpg', 'NL_25_ (6).jpg', 'NL_35_ (7).jpg', 'NL_30_ (1).jpg', 'NL_30_ (10).jpg', 'NL_14_ (6).jpg', 'NL_1_ (13).jpg', 'NL_22_ (2).jpg', 'NL_9_ (11).jpg', 'NL_12_ (3).jpg', 'NL_12_ (1).jpg', 'NL_16_ (6).jpg', 'NL_43_ (6).jpg', 'NL_18_ (16).jpg']\n"
          ]
        }
      ]
    },
    {
      "cell_type": "code",
      "source": [
        "#Parameters\n",
        "batch_size = 16\n",
        "num_epochs = 5\n",
        "\n",
        "#Images preporation\n",
        "transform = transforms.Compose([\n",
        "    transforms.Resize((224, 224)),\n",
        "    transforms.ToTensor(),\n",
        "])\n",
        "\n",
        "class CustomDataset(Dataset):\n",
        "    def __init__(self, root_dirs, class_labels, transform=None):\n",
        "        self.transform = transform\n",
        "        self.image_paths = []\n",
        "        self.labels = []\n",
        "        for root_dir, class_label in zip(root_dirs, class_labels):\n",
        "            paths = [os.path.join(root, name)\n",
        "                     for root, dirs, files in os.walk(root_dir)\n",
        "                     for name in files if name.lower().endswith(('jpg', 'jpeg', 'png'))]\n",
        "            self.image_paths.extend(paths)\n",
        "            self.labels.extend([class_label] * len(paths))\n",
        "\n",
        "    def __len__(self):\n",
        "        return len(self.image_paths)\n",
        "\n",
        "    def __getitem__(self, idx):\n",
        "        img_path = self.image_paths[idx]\n",
        "        image = Image.open(img_path).convert('RGB')\n",
        "        label = self.labels[idx]\n",
        "        if self.transform:\n",
        "            image = self.transform(image)\n",
        "        return image, label, img_path"
      ],
      "metadata": {
        "id": "e8gRkdNzqwuX"
      },
      "execution_count": null,
      "outputs": []
    },
    {
      "cell_type": "code",
      "source": [
        "#Creating a dataset with all classes\n",
        "class_labels = [0, 1, 2, 3]  #Class labels for each type of cancer\n",
        "datasets = CustomDataset([os.path.join(local_data_path, x) for x in subdirs], class_labels, transform)\n",
        "dataloader = DataLoader(datasets, batch_size=batch_size, shuffle=True)\n"
      ],
      "metadata": {
        "id": "GDAMuhwhq6ZX"
      },
      "execution_count": null,
      "outputs": []
    },
    {
      "cell_type": "code",
      "source": [
        "#Loading the model\n",
        "model = SwinForImageClassification.from_pretrained('microsoft/swin-base-patch4-window7-224', num_labels=4, ignore_mismatched_sizes=True)\n"
      ],
      "metadata": {
        "colab": {
          "base_uri": "https://localhost:8080/"
        },
        "id": "qAKl-wB6q9ia",
        "outputId": "cb53ae36-f327-4fbb-88ad-bea91e6fa319"
      },
      "execution_count": null,
      "outputs": [
        {
          "output_type": "stream",
          "name": "stderr",
          "text": [
            "Some weights of SwinForImageClassification were not initialized from the model checkpoint at microsoft/swin-base-patch4-window7-224 and are newly initialized because the shapes did not match:\n",
            "- classifier.bias: found shape torch.Size([1000]) in the checkpoint and torch.Size([4]) in the model instantiated\n",
            "- classifier.weight: found shape torch.Size([1000, 1024]) in the checkpoint and torch.Size([4, 1024]) in the model instantiated\n",
            "You should probably TRAIN this model on a down-stream task to be able to use it for predictions and inference.\n"
          ]
        }
      ]
    },
    {
      "cell_type": "code",
      "source": [
        "#Setting up the computation device\n",
        "device = torch.device(\"cuda\" if torch.cuda.is_available() else \"cpu\")\n",
        "model.to(device)\n"
      ],
      "metadata": {
        "colab": {
          "base_uri": "https://localhost:8080/"
        },
        "collapsed": true,
        "id": "F9Ys-0TarAvo",
        "outputId": "4e976d97-3003-441e-c55a-9cc84488ddb6"
      },
      "execution_count": null,
      "outputs": [
        {
          "output_type": "execute_result",
          "data": {
            "text/plain": [
              "SwinForImageClassification(\n",
              "  (swin): SwinModel(\n",
              "    (embeddings): SwinEmbeddings(\n",
              "      (patch_embeddings): SwinPatchEmbeddings(\n",
              "        (projection): Conv2d(3, 128, kernel_size=(4, 4), stride=(4, 4))\n",
              "      )\n",
              "      (norm): LayerNorm((128,), eps=1e-05, elementwise_affine=True)\n",
              "      (dropout): Dropout(p=0.0, inplace=False)\n",
              "    )\n",
              "    (encoder): SwinEncoder(\n",
              "      (layers): ModuleList(\n",
              "        (0): SwinStage(\n",
              "          (blocks): ModuleList(\n",
              "            (0-1): 2 x SwinLayer(\n",
              "              (layernorm_before): LayerNorm((128,), eps=1e-05, elementwise_affine=True)\n",
              "              (attention): SwinAttention(\n",
              "                (self): SwinSelfAttention(\n",
              "                  (query): Linear(in_features=128, out_features=128, bias=True)\n",
              "                  (key): Linear(in_features=128, out_features=128, bias=True)\n",
              "                  (value): Linear(in_features=128, out_features=128, bias=True)\n",
              "                  (dropout): Dropout(p=0.0, inplace=False)\n",
              "                )\n",
              "                (output): SwinSelfOutput(\n",
              "                  (dense): Linear(in_features=128, out_features=128, bias=True)\n",
              "                  (dropout): Dropout(p=0.0, inplace=False)\n",
              "                )\n",
              "              )\n",
              "              (drop_path): SwinDropPath(p=0.1)\n",
              "              (layernorm_after): LayerNorm((128,), eps=1e-05, elementwise_affine=True)\n",
              "              (intermediate): SwinIntermediate(\n",
              "                (dense): Linear(in_features=128, out_features=512, bias=True)\n",
              "                (intermediate_act_fn): GELUActivation()\n",
              "              )\n",
              "              (output): SwinOutput(\n",
              "                (dense): Linear(in_features=512, out_features=128, bias=True)\n",
              "                (dropout): Dropout(p=0.0, inplace=False)\n",
              "              )\n",
              "            )\n",
              "          )\n",
              "          (downsample): SwinPatchMerging(\n",
              "            (reduction): Linear(in_features=512, out_features=256, bias=False)\n",
              "            (norm): LayerNorm((512,), eps=1e-05, elementwise_affine=True)\n",
              "          )\n",
              "        )\n",
              "        (1): SwinStage(\n",
              "          (blocks): ModuleList(\n",
              "            (0-1): 2 x SwinLayer(\n",
              "              (layernorm_before): LayerNorm((256,), eps=1e-05, elementwise_affine=True)\n",
              "              (attention): SwinAttention(\n",
              "                (self): SwinSelfAttention(\n",
              "                  (query): Linear(in_features=256, out_features=256, bias=True)\n",
              "                  (key): Linear(in_features=256, out_features=256, bias=True)\n",
              "                  (value): Linear(in_features=256, out_features=256, bias=True)\n",
              "                  (dropout): Dropout(p=0.0, inplace=False)\n",
              "                )\n",
              "                (output): SwinSelfOutput(\n",
              "                  (dense): Linear(in_features=256, out_features=256, bias=True)\n",
              "                  (dropout): Dropout(p=0.0, inplace=False)\n",
              "                )\n",
              "              )\n",
              "              (drop_path): SwinDropPath(p=0.1)\n",
              "              (layernorm_after): LayerNorm((256,), eps=1e-05, elementwise_affine=True)\n",
              "              (intermediate): SwinIntermediate(\n",
              "                (dense): Linear(in_features=256, out_features=1024, bias=True)\n",
              "                (intermediate_act_fn): GELUActivation()\n",
              "              )\n",
              "              (output): SwinOutput(\n",
              "                (dense): Linear(in_features=1024, out_features=256, bias=True)\n",
              "                (dropout): Dropout(p=0.0, inplace=False)\n",
              "              )\n",
              "            )\n",
              "          )\n",
              "          (downsample): SwinPatchMerging(\n",
              "            (reduction): Linear(in_features=1024, out_features=512, bias=False)\n",
              "            (norm): LayerNorm((1024,), eps=1e-05, elementwise_affine=True)\n",
              "          )\n",
              "        )\n",
              "        (2): SwinStage(\n",
              "          (blocks): ModuleList(\n",
              "            (0-17): 18 x SwinLayer(\n",
              "              (layernorm_before): LayerNorm((512,), eps=1e-05, elementwise_affine=True)\n",
              "              (attention): SwinAttention(\n",
              "                (self): SwinSelfAttention(\n",
              "                  (query): Linear(in_features=512, out_features=512, bias=True)\n",
              "                  (key): Linear(in_features=512, out_features=512, bias=True)\n",
              "                  (value): Linear(in_features=512, out_features=512, bias=True)\n",
              "                  (dropout): Dropout(p=0.0, inplace=False)\n",
              "                )\n",
              "                (output): SwinSelfOutput(\n",
              "                  (dense): Linear(in_features=512, out_features=512, bias=True)\n",
              "                  (dropout): Dropout(p=0.0, inplace=False)\n",
              "                )\n",
              "              )\n",
              "              (drop_path): SwinDropPath(p=0.1)\n",
              "              (layernorm_after): LayerNorm((512,), eps=1e-05, elementwise_affine=True)\n",
              "              (intermediate): SwinIntermediate(\n",
              "                (dense): Linear(in_features=512, out_features=2048, bias=True)\n",
              "                (intermediate_act_fn): GELUActivation()\n",
              "              )\n",
              "              (output): SwinOutput(\n",
              "                (dense): Linear(in_features=2048, out_features=512, bias=True)\n",
              "                (dropout): Dropout(p=0.0, inplace=False)\n",
              "              )\n",
              "            )\n",
              "          )\n",
              "          (downsample): SwinPatchMerging(\n",
              "            (reduction): Linear(in_features=2048, out_features=1024, bias=False)\n",
              "            (norm): LayerNorm((2048,), eps=1e-05, elementwise_affine=True)\n",
              "          )\n",
              "        )\n",
              "        (3): SwinStage(\n",
              "          (blocks): ModuleList(\n",
              "            (0-1): 2 x SwinLayer(\n",
              "              (layernorm_before): LayerNorm((1024,), eps=1e-05, elementwise_affine=True)\n",
              "              (attention): SwinAttention(\n",
              "                (self): SwinSelfAttention(\n",
              "                  (query): Linear(in_features=1024, out_features=1024, bias=True)\n",
              "                  (key): Linear(in_features=1024, out_features=1024, bias=True)\n",
              "                  (value): Linear(in_features=1024, out_features=1024, bias=True)\n",
              "                  (dropout): Dropout(p=0.0, inplace=False)\n",
              "                )\n",
              "                (output): SwinSelfOutput(\n",
              "                  (dense): Linear(in_features=1024, out_features=1024, bias=True)\n",
              "                  (dropout): Dropout(p=0.0, inplace=False)\n",
              "                )\n",
              "              )\n",
              "              (drop_path): SwinDropPath(p=0.1)\n",
              "              (layernorm_after): LayerNorm((1024,), eps=1e-05, elementwise_affine=True)\n",
              "              (intermediate): SwinIntermediate(\n",
              "                (dense): Linear(in_features=1024, out_features=4096, bias=True)\n",
              "                (intermediate_act_fn): GELUActivation()\n",
              "              )\n",
              "              (output): SwinOutput(\n",
              "                (dense): Linear(in_features=4096, out_features=1024, bias=True)\n",
              "                (dropout): Dropout(p=0.0, inplace=False)\n",
              "              )\n",
              "            )\n",
              "          )\n",
              "        )\n",
              "      )\n",
              "    )\n",
              "    (layernorm): LayerNorm((1024,), eps=1e-05, elementwise_affine=True)\n",
              "    (pooler): AdaptiveAvgPool1d(output_size=1)\n",
              "  )\n",
              "  (classifier): Linear(in_features=1024, out_features=4, bias=True)\n",
              ")"
            ]
          },
          "metadata": {},
          "execution_count": 161
        }
      ]
    },
    {
      "cell_type": "code",
      "source": [
        "#Optimizer and loss function\n",
        "optimizer = torch.optim.Adam(model.parameters(), lr=1e-4)\n",
        "criterion = torch.nn.CrossEntropyLoss()\n"
      ],
      "metadata": {
        "id": "920pLm7LrGME"
      },
      "execution_count": null,
      "outputs": []
    },
    {
      "cell_type": "code",
      "source": [
        "#Model training\n",
        "for epoch in range(num_epochs):\n",
        "    model.train()\n",
        "    for inputs, labels, _ in dataloader:\n",
        "        inputs, labels = inputs.to(device), labels.to(device)\n",
        "        optimizer.zero_grad()\n",
        "        outputs = model(inputs).logits\n",
        "        loss = criterion(outputs, labels)\n",
        "        loss.backward()\n",
        "        optimizer.step()\n",
        "    print(f\"Epoch {epoch+1}/{num_epochs}, Loss: {loss.item()}\")\n",
        "\n",
        "#Saving of the trained model\n",
        "model.save_pretrained('/content/swin-trained')"
      ],
      "metadata": {
        "colab": {
          "base_uri": "https://localhost:8080/"
        },
        "id": "zba9WalerI7D",
        "outputId": "7d5c2cdc-b9e1-422d-c799-3f182d0782fc"
      },
      "execution_count": null,
      "outputs": [
        {
          "output_type": "stream",
          "name": "stdout",
          "text": [
            "Epoch 1/5, Loss: 0.208469420671463\n",
            "Epoch 2/5, Loss: 0.019107971340417862\n",
            "Epoch 3/5, Loss: 0.0032594443764537573\n",
            "Epoch 4/5, Loss: 0.1489783525466919\n",
            "Epoch 5/5, Loss: 0.03742654249072075\n"
          ]
        }
      ]
    },
    {
      "cell_type": "code",
      "source": [
        "#Extracting feature vectors\n",
        "model.eval()\n",
        "feature_extractor = AutoFeatureExtractor.from_pretrained('microsoft/swin-base-patch4-window7-224')\n",
        "\n",
        "def extract_features(data_loader):\n",
        "    features_list = []\n",
        "    names_list = []\n",
        "    with torch.no_grad():\n",
        "        for inputs, _, paths in data_loader:\n",
        "            inputs = inputs.to(device)\n",
        "            outputs = model(inputs, output_hidden_states=True)\n",
        "            features = outputs.hidden_states[-1][:, 0, :].cpu().numpy()\n",
        "            for feature, path in zip(features, paths):\n",
        "                features_list.append(feature)\n",
        "                names_list.append(Path(path).name)\n",
        "    return features_list, names_list\n",
        "\n",
        "dataloaders_with_paths = {x: DataLoader(CustomDataset([os.path.join(local_data_path, x)], [class_labels[i]], transform),\n",
        "                                        batch_size=batch_size, shuffle=False)\n",
        "                          for i, x in enumerate(subdirs)}\n"
      ],
      "metadata": {
        "colab": {
          "base_uri": "https://localhost:8080/"
        },
        "id": "S5LPaPE9tV5E",
        "outputId": "40f8fb07-b394-4247-e753-4574906ebdb9"
      },
      "execution_count": null,
      "outputs": [
        {
          "output_type": "stream",
          "name": "stderr",
          "text": [
            "/usr/local/lib/python3.10/dist-packages/transformers/models/vit/feature_extraction_vit.py:28: FutureWarning: The class ViTFeatureExtractor is deprecated and will be removed in version 5 of Transformers. Please use ViTImageProcessor instead.\n",
            "  warnings.warn(\n"
          ]
        }
      ]
    },
    {
      "cell_type": "code",
      "source": [
        "#Saving feature vectors to CSV files by category\n",
        "output_dir = '/content/drive/MyDrive/Cancer/Features'\n",
        "os.makedirs(output_dir, exist_ok=True)\n",
        "\n",
        "for category in subdirs:\n",
        "    features, names = extract_features(dataloaders_with_paths[category])\n",
        "    df = pd.DataFrame(features)\n",
        "    df.insert(0, 'name', names)\n",
        "    df.to_csv(f'{output_dir}/{category}_features.csv', index=False)\n",
        "\n",
        "print(f\"Files have been moved to {output_dir}\")\n"
      ],
      "metadata": {
        "colab": {
          "base_uri": "https://localhost:8080/"
        },
        "id": "SSe9UXkxta2A",
        "outputId": "2d3103b5-7621-4567-e899-0ee500bef958"
      },
      "execution_count": null,
      "outputs": [
        {
          "output_type": "stream",
          "name": "stdout",
          "text": [
            "Файлы перемещены в /content/drive/MyDrive/Cancer/Features\n"
          ]
        }
      ]
    }
  ]
}