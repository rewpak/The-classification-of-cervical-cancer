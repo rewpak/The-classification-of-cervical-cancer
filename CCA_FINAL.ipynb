{
  "nbformat": 4,
  "nbformat_minor": 0,
  "metadata": {
    "colab": {
      "provenance": []
    },
    "kernelspec": {
      "name": "python3",
      "display_name": "Python 3"
    },
    "language_info": {
      "name": "python"
    }
  },
  "cells": [
    {
      "cell_type": "code",
      "execution_count": 1,
      "metadata": {
        "colab": {
          "base_uri": "https://localhost:8080/"
        },
        "id": "SYaLRHaxoCLQ",
        "outputId": "230ea91a-fe01-4842-97dd-6788113e629d"
      },
      "outputs": [
        {
          "output_type": "stream",
          "name": "stdout",
          "text": [
            "Mounted at /content/drive\n"
          ]
        }
      ],
      "source": [
        "from google.colab import drive\n",
        "drive.mount('/content/drive')"
      ]
    },
    {
      "cell_type": "code",
      "source": [
        "#Libraries\n",
        "import pandas as pd\n",
        "import numpy as np\n",
        "from sklearn.cross_decomposition import CCA\n",
        "from sklearn.preprocessing import StandardScaler\n",
        "import matplotlib.pyplot as plt"
      ],
      "metadata": {
        "id": "5RZeUhQooRhm"
      },
      "execution_count": 2,
      "outputs": []
    },
    {
      "cell_type": "code",
      "source": [
        "#Path to datasets\n",
        "EFN_path = '/content/drive/My Drive/Cancer/NEW EFN/EFN_comb_pca.csv'\n",
        "SWN_path = '/content/drive/My Drive/Cancer/NEW SWN/SWN_comb_pca.csv'\n",
        "\n",
        "#Load datasets\n",
        "EFN_df = pd.read_csv(EFN_path)\n",
        "SWN_df = pd.read_csv(SWN_path)\n",
        "\n",
        "#Cheking the shape of datasets\n",
        "print(f'Shape of EfficientNet features: {EFN_df.shape}')\n",
        "print(f'Shape of Swin Transformer features: {SWN_df.shape}')\n",
        "\n",
        "#Viewing the first rows of datasets\n",
        "print(EFN_df.head())\n",
        "print(SWN_df.head())"
      ],
      "metadata": {
        "colab": {
          "base_uri": "https://localhost:8080/"
        },
        "collapsed": true,
        "id": "T3nGv31hosbB",
        "outputId": "eb2c9437-dff9-4690-9476-0af145df0a7f"
      },
      "execution_count": 3,
      "outputs": [
        {
          "output_type": "stream",
          "name": "stdout",
          "text": [
            "Shape of EfficientNet features: (1000, 401)\n",
            "Shape of Swin Transformer features: (1000, 401)\n",
            "                       filename       PC1       PC2        PC3       PC4  \\\n",
            "0          HSIL_1 (1)_aug_0.jpg  6.883228 -8.065179   4.842025  7.476281   \n",
            "1         HSIL_1 (10)_aug_0.jpg -5.761120 -7.481843   4.331707 -8.199776   \n",
            "2         HSIL_1 (11)_aug_0.jpg -3.733144 -9.549364   1.457778 -0.491422   \n",
            "3         HSIL_1 (12)_aug_0.jpg -1.572749 -1.624565  -5.295497  4.417744   \n",
            "4  HSIL_1 (12)_aug_extra_57.jpg  0.008793  2.433184 -10.258959  0.912830   \n",
            "\n",
            "        PC5        PC6       PC7       PC8        PC9  ...     PC391  \\\n",
            "0 -0.610270  11.128073 -5.690531 -7.088023   9.056043  ... -0.634501   \n",
            "1 -2.954523   8.397054 -6.153464 -5.234269   5.218157  ...  0.230171   \n",
            "2 -1.706776  15.873063 -1.344966 -2.662883  11.804904  ...  0.451170   \n",
            "3 -3.854264  20.220553 -7.053946 -2.974186  12.729933  ...  0.470513   \n",
            "4 -4.008668  18.544699 -5.164958 -1.099340  14.303882  ...  0.558876   \n",
            "\n",
            "      PC392     PC393     PC394     PC395     PC396     PC397     PC398  \\\n",
            "0  0.845327 -0.686112  0.235944 -0.422816  0.048858  0.124414 -1.023203   \n",
            "1 -0.162486 -0.017912  0.463281 -0.161917 -0.230971 -0.265165 -0.177089   \n",
            "2 -0.053573  0.530535 -0.359852 -0.123395 -0.637887  0.796988 -0.502966   \n",
            "3  1.298755 -0.086283  0.409791 -0.545324 -0.400780 -0.040722 -0.312538   \n",
            "4  0.552605 -0.353382  0.007217  0.574848 -0.488499  0.696370  0.422870   \n",
            "\n",
            "      PC399     PC400  \n",
            "0  0.446221  0.064029  \n",
            "1  0.508332 -0.690898  \n",
            "2  0.138801  0.631573  \n",
            "3 -0.048149  0.449168  \n",
            "4  0.512562 -0.267237  \n",
            "\n",
            "[5 rows x 401 columns]\n",
            "                           name       PC1        PC2        PC3        PC4  \\\n",
            "0          HSIL_1 (1)_aug_0.jpg  9.426373  -4.338808  11.558610 -10.344497   \n",
            "1         HSIL_1 (10)_aug_0.jpg -0.055121 -12.550789   0.475629 -14.776727   \n",
            "2         HSIL_1 (11)_aug_0.jpg -6.784068  -8.505633   1.576266 -13.872509   \n",
            "3         HSIL_1 (12)_aug_0.jpg -3.134991 -15.019575   3.302578  -6.920204   \n",
            "4  HSIL_1 (12)_aug_extra_57.jpg -0.301345 -14.302363   3.509968  -7.766942   \n",
            "\n",
            "        PC5       PC6       PC7       PC8       PC9  ...     PC391     PC392  \\\n",
            "0  6.704668 -1.198338 -2.542437  0.058946 -3.016564  ... -0.107954  0.633000   \n",
            "1 -0.918796 -1.038499 -3.403582  0.261490 -2.606321  ... -0.027320  0.136814   \n",
            "2 -4.469339  1.235463 -5.789359  1.218921  0.034921  ... -0.045200 -0.395947   \n",
            "3 -4.483727  2.501286 -3.776418 -0.025338 -0.254562  ... -0.194809 -0.137890   \n",
            "4 -2.089554 -0.648473 -3.421576 -1.953220 -2.772138  ... -0.329608  0.323265   \n",
            "\n",
            "      PC393     PC394     PC395     PC396     PC397     PC398     PC399  \\\n",
            "0  0.398501 -0.517832 -0.638694 -0.413187  0.202638  0.150610 -0.162032   \n",
            "1  0.004619  0.066828  0.076200  0.292939 -0.232014  0.208473 -0.077750   \n",
            "2 -0.197213 -0.190887 -0.260829  0.232310  0.135974 -0.190153  0.212993   \n",
            "3  0.127639 -0.090104  0.212132 -0.076900  0.358194 -0.445415  0.303870   \n",
            "4  0.156095  0.097231 -0.589043  0.236383 -0.181739 -0.138184 -0.046776   \n",
            "\n",
            "      PC400  \n",
            "0  0.418001  \n",
            "1 -0.131258  \n",
            "2  0.170305  \n",
            "3  0.008764  \n",
            "4 -0.191049  \n",
            "\n",
            "[5 rows x 401 columns]\n"
          ]
        }
      ]
    },
    {
      "cell_type": "code",
      "source": [
        "#Removing the first columns with names\n",
        "EFN_features = EFN_df.drop(columns=['filename']).astype(float).values\n",
        "SWN_features = SWN_df.drop(columns=['name']).astype(float).values\n",
        "\n",
        "#Data scaling\n",
        "scaler = StandardScaler(with_mean=True, with_std=True)\n",
        "\n",
        "EFN_scaled = scaler.fit_transform(EFN_features)\n",
        "SWN_scaled = scaler.transform(SWN_features)\n",
        "\n",
        "#Cheking the shape of datasets\n",
        "print(f'Shape of scaled EfficientNet features: {EFN_scaled.shape}')\n",
        "print(f'Shape of scaled Swin Transformer features: {SWN_scaled.shape}')"
      ],
      "metadata": {
        "colab": {
          "base_uri": "https://localhost:8080/"
        },
        "id": "mHdiQrBco0jP",
        "outputId": "1d5a877c-8396-497b-9765-46958089fc77"
      },
      "execution_count": 4,
      "outputs": [
        {
          "output_type": "stream",
          "name": "stdout",
          "text": [
            "Shape of scaled EfficientNet features: (1000, 400)\n",
            "Shape of scaled Swin Transformer features: (1000, 400)\n"
          ]
        }
      ]
    },
    {
      "cell_type": "code",
      "source": [
        "#Saving the column with image names\n",
        "image_names = EFN_df['filename']\n",
        "\n",
        "#Applying CCA with the number of components not exceeding the number of samples\n",
        "n_components = min(EFN_scaled.shape[0], EFN_scaled.shape[1], SWN_scaled.shape[1]) - 1\n",
        "cca = CCA(n_components=n_components)\n",
        "EFN_c, SWN_c = cca.fit_transform(EFN_scaled, SWN_scaled)\n"
      ],
      "metadata": {
        "colab": {
          "base_uri": "https://localhost:8080/"
        },
        "id": "UdPd4Kx1o4KX",
        "outputId": "36a67a5e-7cfc-48bb-e56d-1f25231b5749"
      },
      "execution_count": 5,
      "outputs": [
        {
          "output_type": "stream",
          "name": "stderr",
          "text": [
            "/usr/local/lib/python3.10/dist-packages/sklearn/cross_decomposition/_pls.py:113: ConvergenceWarning: Maximum number of iterations reached\n",
            "  warnings.warn(\"Maximum number of iterations reached\", ConvergenceWarning)\n"
          ]
        }
      ]
    },
    {
      "cell_type": "code",
      "source": [
        "#Calculating correlation coefficients after CCA\n",
        "correlations = np.corrcoef(EFN_c.T, SWN_c.T)[0:n_components, n_components:]\n",
        "\n",
        "#Since the diagonal elements of the correlation matrix contain the correlations for each component, we select them for plotting\n",
        "cca_correlations = np.diag(correlations)\n",
        "\n",
        "#Plotting the Scree Plot\n",
        "plt.figure(figsize=(10, 6))\n",
        "plt.plot(range(1, len(cca_correlations) + 1), cca_correlations, marker='o', linestyle='-')\n",
        "plt.title('Scree Plot for CCA')\n",
        "plt.xlabel('Component Number')\n",
        "plt.ylabel('Canonical Correlation')\n",
        "plt.axhline(y=0.90, color='r', linestyle='--', label='90% Correlation') # Adding a line at the 90% correlation level\n",
        "plt.grid(True)\n",
        "plt.legend()\n",
        "plt.show()"
      ],
      "metadata": {
        "colab": {
          "base_uri": "https://localhost:8080/",
          "height": 564
        },
        "id": "dJDnRVBjvID0",
        "outputId": "993cf251-775e-441f-817c-1ad3acb18e8d"
      },
      "execution_count": 6,
      "outputs": [
        {
          "output_type": "display_data",
          "data": {
            "text/plain": [
              "<Figure size 1000x600 with 1 Axes>"
            ],
            "image/png": "[encoded data removed]"
          },
          "metadata": {}
        }
      ]
    },
    {
      "cell_type": "code",
      "source": [
        "#Applying CCA with 100 components\n",
        "n_components = 100\n",
        "cca = CCA(n_components=n_components)\n",
        "EFN_c, SWN_c = cca.fit_transform(EFN_scaled, SWN_scaled)"
      ],
      "metadata": {
        "colab": {
          "base_uri": "https://localhost:8080/"
        },
        "id": "ltfm5SIRw8t0",
        "outputId": "e0a63288-8297-466f-d87a-d3128307d47b"
      },
      "execution_count": 7,
      "outputs": [
        {
          "output_type": "stream",
          "name": "stderr",
          "text": [
            "/usr/local/lib/python3.10/dist-packages/sklearn/cross_decomposition/_pls.py:113: ConvergenceWarning: Maximum number of iterations reached\n",
            "  warnings.warn(\"Maximum number of iterations reached\", ConvergenceWarning)\n"
          ]
        }
      ]
    },
    {
      "cell_type": "code",
      "source": [
        "#Combining the transformed features\n",
        "combined_features = np.hstack((EFN_c, SWN_c))\n",
        "\n",
        "#Transform the combined features into a DataFrame and add a column with names\n",
        "combined_df = pd.DataFrame(combined_features)\n",
        "combined_df.insert(0, 'image_name', image_names.reset_index(drop=True))\n",
        "\n",
        "#Displaying the first few rows of the combined DataFrame\n",
        "print(combined_df.head())\n",
        "\n",
        "#Save the combined DataFrame to a CSV file\n",
        "combined_df.to_csv('/content/drive/My Drive/Cancer/AugImages/CCA_DON.csv', index=False)"
      ],
      "metadata": {
        "colab": {
          "base_uri": "https://localhost:8080/"
        },
        "id": "2XjFO5WrrFKn",
        "outputId": "416578b2-f220-4df7-9a07-9add09c8c865"
      },
      "execution_count": 8,
      "outputs": [
        {
          "output_type": "stream",
          "name": "stdout",
          "text": [
            "                     image_name         0         1         2         3  \\\n",
            "0          HSIL_1 (1)_aug_0.jpg -0.753503  0.109218 -0.944134 -1.090103   \n",
            "1         HSIL_1 (10)_aug_0.jpg -0.827939  0.417710 -1.295207 -1.218752   \n",
            "2         HSIL_1 (11)_aug_0.jpg -0.827151 -0.625852 -0.561354 -1.917607   \n",
            "3         HSIL_1 (12)_aug_0.jpg -1.270457  0.303015 -1.082936 -2.246055   \n",
            "4  HSIL_1 (12)_aug_extra_57.jpg -1.853350  0.335712 -1.352681 -1.961002   \n",
            "\n",
            "          4         5         6         7         8  ...       190       191  \\\n",
            "0  1.567614 -1.140856 -0.482961 -0.811448 -0.011368  ... -0.643385  0.439093   \n",
            "1  1.157044 -1.363222  0.128874 -1.376113  0.040710  ... -0.770274 -0.311719   \n",
            "2  0.631790 -1.805804 -0.986008  0.097057  0.518088  ... -0.328444 -2.653341   \n",
            "3  0.896465 -1.036447  0.246125 -0.616684  1.558825  ...  0.457548  0.331741   \n",
            "4 -0.343671 -2.104315 -1.775681  1.309410  2.558172  ... -0.046938 -0.041840   \n",
            "\n",
            "        192       193       194       195       196       197       198  \\\n",
            "0 -0.957269 -0.257789  1.327706 -0.718906  0.193260  0.771774 -0.528549   \n",
            "1  0.079592 -0.999368  0.185635 -0.428359 -0.158017 -1.097827  0.475738   \n",
            "2  1.780180  1.111136  1.137651  0.183361  0.585804  0.005032 -0.939928   \n",
            "3  0.324559 -1.165873 -1.178706 -0.706063 -1.283160  0.382996 -0.808920   \n",
            "4 -0.524685 -2.823254 -2.506461 -2.005790 -2.079795  0.215727 -0.554005   \n",
            "\n",
            "        199  \n",
            "0 -0.238619  \n",
            "1  0.590811  \n",
            "2  4.274190  \n",
            "3  0.687953  \n",
            "4  1.829478  \n",
            "\n",
            "[5 rows x 201 columns]\n"
          ]
        }
      ]
    }
  ]
}